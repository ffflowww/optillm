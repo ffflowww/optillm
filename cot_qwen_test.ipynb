{
 "cells": [
  {
   "cell_type": "code",
   "execution_count": null,
   "id": "13e23317-50ec-493f-bd01-f6e59bcc9b01",
   "metadata": {
    "scrolled": true
   },
   "outputs": [],
   "source": [
    "# Install modified lib from github\n",
    "!python -m pip install --no-cache-dir -U git+https://github.com/ffflowww/optillm.git@qwen-vllm"
   ]
  },
  {
   "cell_type": "code",
   "execution_count": 1,
   "id": "df828323-1ab0-4beb-ad64-386d99998027",
   "metadata": {},
   "outputs": [],
   "source": [
    "from openai import OpenAI\n",
    "import requests\n",
    "import json\n",
    "import numpy as np\n",
    "from typing import List, Tuple\n",
    "from optillm.cot_decoding_vllm import cot_decode_vllm\n",
    "from transformers import AutoTokenizer\n",
    "import warnings"
   ]
  },
  {
   "cell_type": "code",
   "execution_count": 2,
   "id": "689544d6-de65-4828-8467-2e27913c1eb1",
   "metadata": {},
   "outputs": [
    {
     "data": {
      "text/plain": [
       "ChatCompletionMessage(content='Hello! How can I assist you today?', refusal=None, role='assistant', function_call=None, tool_calls=[])"
      ]
     },
     "execution_count": 2,
     "metadata": {},
     "output_type": "execute_result"
    }
   ],
   "source": [
    "model = \"Qwen/Qwen2.5-72B-Instruct\"\n",
    "base_url = \"\"\n",
    "api_key = \"\"\n",
    "\n",
    "client = OpenAI(\n",
    "    base_url=base_url,\n",
    "    api_key=api_key,\n",
    ")\n",
    "\n",
    "client.chat.completions.create(model=model, messages=[{\"role\": \"user\", \"content\": \"Hello!\"}]).choices[0].message"
   ]
  },
  {
   "cell_type": "markdown",
   "id": "8cc8cd83-e724-48ac-9c9f-adbc6421ce55",
   "metadata": {},
   "source": [
    "## Initial promt"
   ]
  },
  {
   "cell_type": "code",
   "execution_count": 3,
   "id": "b579d40f-0a7f-4ff0-b400-8b7a12ec5d15",
   "metadata": {},
   "outputs": [],
   "source": [
    "system_prompt = \"You are a smart assistant. At the very end of your response always give only exact answer after words 'Answer:' \"\n",
    "user_prompt = \"In a dance class of 20 students, 20% enrolled in contemporary dance, 25% of the remaining enrolled in jazz dance, and the rest enrolled in hip-hop dance. What percentage of the entire students enrolled in hip-hop dance?\""
   ]
  },
  {
   "cell_type": "markdown",
   "id": "e01fff76-18e2-429d-8510-5f2e392e1453",
   "metadata": {},
   "source": [
    "## Case 1. Get the best answer"
   ]
  },
  {
   "cell_type": "code",
   "execution_count": 4,
   "id": "36bb95e9-8325-4905-a94f-e9786495379b",
   "metadata": {},
   "outputs": [
    {
     "data": {
      "text/plain": [
       "('To determine the percentage of students enrolled in hip-hop dance, we can follow these steps:\\n\\n1. Calculate the number of students enrolled in contemporary dance:\\n   - 20% of 20 students = 0.20 * 20 = 4 students\\n\\n2. Calculate the number of remaining students after the contemporary dance enrollment:\\n   - 20 - 4 = 16 students\\n\\n3. Calculate the number of students enrolled in jazz dance:\\n   - 25% of the remaining 16 students = 0.25 * 16 = 4 students\\n\\n4. Calculate the number of students enrolled in hip-hop dance:\\n   - Total students - (students in contemporary + students in jazz) = 20 - (4 + 4) = 12 students\\n\\n5. Calculate the percentage of students enrolled in hip-hop dance:\\n   - (Number of students in hip-hop / Total number of students) * 100 = (12 / 20) * 100 = 60%\\n\\nAnswer: 60%',\n",
       " 0.9417607200269825)"
      ]
     },
     "execution_count": 4,
     "metadata": {},
     "output_type": "execute_result"
    }
   ],
   "source": [
    "response = cot_decode_vllm(system_prompt, user_prompt, client, model, n_paths=1)\n",
    "response"
   ]
  },
  {
   "cell_type": "code",
   "execution_count": 5,
   "id": "d18c7fb1-13c5-43c6-87b8-4a67490c8e27",
   "metadata": {},
   "outputs": [
    {
     "name": "stdout",
     "output_type": "stream",
     "text": [
      "[CoT decode 1/1]\n",
      "[Confidence:] 0.9550112714093978\n",
      "[Real answer for confidence scoring:] ||all_text||\n",
      "[Answer:] To determine the percentage of students who enrolled in hip-hop dance, let's break down the problem step-by-step:\n",
      "\n",
      "1. **Total number of students**: 20\n",
      "\n",
      "2. **Students enrolled in contemporary dance**:\n",
      "   - 20% of 20 students = 0.20 * 20 = 4 students\n",
      "\n",
      "3. **Remaining students after contemporary dance**:\n",
      "   - 20 - 4 = 16 students\n",
      "\n",
      "4. **Students enrolled in jazz dance**:\n",
      "   - 25% of the remaining 16 students = 0.25 * 16 = 4 students\n",
      "\n",
      "5. **Students enrolled in hip-hop dance**:\n",
      "   - Remaining students = 16 - 4 = 12 students\n",
      "\n",
      "6. **Percentage of students enrolled in hip-hop dance**:\n",
      "   - (12 students / 20 students) * 100% = 60%\n",
      "\n",
      "Answer: 60%\n"
     ]
    },
    {
     "data": {
      "text/plain": [
       "(\"To determine the percentage of students who enrolled in hip-hop dance, let's break down the problem step-by-step:\\n\\n1. **Total number of students**: 20\\n\\n2. **Students enrolled in contemporary dance**:\\n   - 20% of 20 students = 0.20 * 20 = 4 students\\n\\n3. **Remaining students after contemporary dance**:\\n   - 20 - 4 = 16 students\\n\\n4. **Students enrolled in jazz dance**:\\n   - 25% of the remaining 16 students = 0.25 * 16 = 4 students\\n\\n5. **Students enrolled in hip-hop dance**:\\n   - Remaining students = 16 - 4 = 12 students\\n\\n6. **Percentage of students enrolled in hip-hop dance**:\\n   - (12 students / 20 students) * 100% = 60%\\n\\nAnswer: 60%\",\n",
       " 0.9550112714093978)"
      ]
     },
     "execution_count": 5,
     "metadata": {},
     "output_type": "execute_result"
    }
   ],
   "source": [
    "response = cot_decode_vllm(system_prompt, user_prompt, client, model, n_paths=1, debug_print=True)  # the same but with debug print\n",
    "response"
   ]
  },
  {
   "cell_type": "code",
   "execution_count": 6,
   "id": "81f1faf7-c7c7-4afd-915b-4a73bcc17991",
   "metadata": {},
   "outputs": [
    {
     "name": "stdout",
     "output_type": "stream",
     "text": [
      "[CoT decode 1/1]\n",
      "[Confidence:] 0.999782355929016\n",
      "[Real answer for confidence scoring:]  60%\n",
      "[Answer:] To determine the percentage of students enrolled in hip-hop dance, we can follow these steps:\n",
      "\n",
      "1. Calculate the number of students enrolled in contemporary dance:\n",
      "   - 20% of 20 students = 0.20 * 20 = 4 students\n",
      "\n",
      "2. Determine the number of remaining students after those in contemporary dance are accounted for:\n",
      "   - 20 students - 4 students = 16 students\n",
      "\n",
      "3. Calculate the number of students enrolled in jazz dance:\n",
      "   - 25% of 16 students = 0.25 * 16 = 4 students\n",
      "\n",
      "4. Determine the number of students enrolled in hip-hop dance:\n",
      "   - Total students - students in contemporary - students in jazz = 20 - 4 - 4 = 12 students\n",
      "\n",
      "5. Calculate the percentage of students enrolled in hip-hop dance:\n",
      "   - (12 students / 20 students) * 100% = 60%\n",
      "\n",
      "Answer: 60%\n"
     ]
    },
    {
     "data": {
      "text/plain": [
       "('To determine the percentage of students enrolled in hip-hop dance, we can follow these steps:\\n\\n1. Calculate the number of students enrolled in contemporary dance:\\n   - 20% of 20 students = 0.20 * 20 = 4 students\\n\\n2. Determine the number of remaining students after those in contemporary dance are accounted for:\\n   - 20 students - 4 students = 16 students\\n\\n3. Calculate the number of students enrolled in jazz dance:\\n   - 25% of 16 students = 0.25 * 16 = 4 students\\n\\n4. Determine the number of students enrolled in hip-hop dance:\\n   - Total students - students in contemporary - students in jazz = 20 - 4 - 4 = 12 students\\n\\n5. Calculate the percentage of students enrolled in hip-hop dance:\\n   - (12 students / 20 students) * 100% = 60%\\n\\nAnswer: 60%',\n",
       " 0.999782355929016)"
      ]
     },
     "execution_count": 6,
     "metadata": {},
     "output_type": "execute_result"
    }
   ],
   "source": [
    "response = cot_decode_vllm(system_prompt, user_prompt, client, model, n_paths=1, debug_print=True, answer_keywords='Answer:')  # the same but with debug print and exact answer keywords\n",
    "response"
   ]
  },
  {
   "cell_type": "markdown",
   "id": "b90c2f50-b115-465d-ac6b-d88a7bb8a4ab",
   "metadata": {},
   "source": [
    "## Case 2. Show all answers and its confidence scores (is_return_all=True). Showcase of all supported parameters"
   ]
  },
  {
   "cell_type": "code",
   "execution_count": 8,
   "id": "c115e280-19cb-4945-a6bf-d77cb5f290b4",
   "metadata": {},
   "outputs": [
    {
     "name": "stdout",
     "output_type": "stream",
     "text": [
      "[CoT decode 1/10]\n",
      "[Confidence:] 0.9993208837777148\n",
      "[Real answer for confidence scoring:]  60%\n",
      "[Answer:] To find the percentage of students enrolled in hip-hop dance, we need to follow these steps:\n",
      "\n",
      "1. Calculate the number of students enrolled in contemporary dance.\n",
      "2. Subtract the number of contemporary dance students from the total to find the remaining students.\n",
      "3. Calculate the number of students enrolled in jazz dance from the remaining students.\n",
      "4. Subtract the number of jazz dance students from the remaining to find the number of students enrolled in hip-hop dance.\n",
      "5. Calculate the percentage of students enrolled in hip-hop dance.\n",
      "\n",
      "Let's perform the calculations:\n",
      "\n",
      "1. Number of students enrolled in contemporary dance:\n",
      "   \\[\n",
      "   20\\% \\text{ of } 20 = 0.20 \\times 20 = 4 \\text{ students}\n",
      "   \\]\n",
      "\n",
      "2. Remaining students after contemporary dance:\n",
      "   \\[\n",
      "   20 - 4 = 16 \\text{ students}\n",
      "   \\]\n",
      "\n",
      "3. Number of students enrolled in jazz dance:\n",
      "   \\[\n",
      "   25\\% \\text{ of } 16 = 0.25 \\times 16 = 4 \\text{ students}\n",
      "   \\]\n",
      "\n",
      "4. Remaining students after jazz dance (enrolled in hip-hop):\n",
      "   \\[\n",
      "   16 - 4 = 12 \\text{ students}\n",
      "   \\]\n",
      "\n",
      "5. Percentage of students enrolled in hip-hop dance:\n",
      "   \\[\n",
      "   \\left(\\frac{12}{20}\\right) \\times 100 = 60\\%\n",
      "   \\]\n",
      "\n",
      "Answer: 60%\n",
      "[CoT decode 2/10]\n",
      "[Confidence:] 0.9999523878704021\n",
      "[Real answer for confidence scoring:]  60%\n",
      "[Answer:] First, we calculate the number of students who enrolled in contemporary dance, which is 20% of 20 students:\n",
      "\n",
      "\\[ 20 \\times 0.20 = 4 \\]\n",
      "\n",
      "So, 4 students enrolled in contemporary dance. This leaves:\n",
      "\n",
      "\\[ 20 - 4 = 16 \\]\n",
      "\n",
      "16 students remaining. Out of these, 25% enrolled in jazz dance:\n",
      "\n",
      "\\[ 16 \\times 0.25 = 4 \\]\n",
      "\n",
      "So, 4 students enrolled in jazz dance. This leaves:\n",
      "\n",
      "\\[ 16 - 4 = 12 \\]\n",
      "\n",
      "12 students who enrolled in hip-hop dance. To find the percentage of the entire class that enrolled in hip-hop dance:\n",
      "\n",
      "\\[ \\left( \\frac{12}{20} \\right) \\times 100 = 60\\% \\]\n",
      "\n",
      "Answer: 60%\n",
      "[CoT decode 3/10]\n",
      "[Confidence:] 0.9999918796058154\n",
      "[Real answer for confidence scoring:]  60%\n",
      "[Answer:] Let's break down the problem step by step:\n",
      "\n",
      "1. **Total number of students**: 20\n",
      "\n",
      "2. **Percentage enrolled in contemporary dance**: 20%\n",
      "   - Number of students in contemporary dance: \\( 20 \\times 0.20 = 4 \\)\n",
      "\n",
      "3. **Remaining students after contemporary dance**: \n",
      "   - \\( 20 - 4 = 16 \\)\n",
      "\n",
      "4. **Percentage of the remaining students enrolled in jazz dance**: 25%\n",
      "   - Number of students in jazz dance: \\( 16 \\times 0.25 = 4 \\)\n",
      "\n",
      "5. **Remaining students after jazz dance**:\n",
      "   - \\( 16 - 4 = 12 \\)\n",
      "\n",
      "6. **Number of students enrolled in hip-hop dance**: 12\n",
      "\n",
      "7. **Percentage of the entire class enrolled in hip-hop dance**:\n",
      "   - \\( \\frac{12}{20} \\times 100 = 60\\% \\)\n",
      "\n",
      "Answer: 60%\n",
      "[CoT decode 4/10]\n",
      "[Confidence:] 0.9999831657424293\n",
      "[Real answer for confidence scoring:]  60%\n",
      "[Answer:] Certainly! Let's break down the problem step-by-step:\n",
      "\n",
      "1. **Total number of students:** 20\n",
      "\n",
      "2. **Percentage enrolled in contemporary dance:** 20%\n",
      "   - Number of students in contemporary dance: \\( 20 \\times 0.20 = 4 \\)\n",
      "\n",
      "3. **Remaining students after contemporary dance:** \n",
      "   - \\( 20 - 4 = 16 \\)\n",
      "\n",
      "4. **Percentage of the remaining students enrolled in jazz dance:** 25%\n",
      "   - Number of students in jazz dance: \\( 16 \\times 0.25 = 4 \\)\n",
      "\n",
      "5. **Remaining students after jazz dance:**\n",
      "   - \\( 16 - 4 = 12 \\)\n",
      "\n",
      "6. **Number of students in hip-hop dance:** 12\n",
      "\n",
      "7. **Percentage of the entire class enrolled in hip-hop dance:**\n",
      "   - \\( \\frac{12}{20} \\times 100 = 60\\% \\)\n",
      "\n",
      "Answer: 60%\n",
      "[CoT decode 5/10]\n",
      "[Confidence:] 0.9999989822398221\n",
      "[Real answer for confidence scoring:]  60%\n",
      "[Answer:] Sure, let's break down the problem step by step.\n",
      "\n",
      "1. **Total number of students**: 20\n",
      "\n",
      "2. **Students enrolled in contemporary dance**:\n",
      "   - 20% of 20 students = 0.20 * 20 = 4 students\n",
      "\n",
      "3. **Remaining students after contemporary dance**:\n",
      "   - 20 - 4 = 16 students\n",
      "\n",
      "4. **Students enrolled in jazz dance**:\n",
      "   - 25% of the remaining 16 students = 0.25 * 16 = 4 students\n",
      "\n",
      "5. **Remaining students after jazz dance**:\n",
      "   - 16 - 4 = 12 students\n",
      "\n",
      "6. **Students enrolled in hip-hop dance**:\n",
      "   - The rest of the students = 12 students\n",
      "\n",
      "7. **Percentage of students enrolled in hip-hop dance**:\n",
      "   - (12 / 20) * 100 = 60%\n",
      "\n",
      "So, the percentage of the entire students enrolled in hip-hop dance is:\n",
      "\n",
      "Answer: 60%\n",
      "[CoT decode 6/10]\n",
      "[Confidence:] 0.9997251052131286\n",
      "[Real answer for confidence scoring:]  60%\n",
      "[Answer:] 首先，我们确定舞蹈课上的20名学生中有多少人注册了当代舞。20%的学生注册了当代舞，即：\n",
      "\n",
      "\\[ 20 \\times 20\\% = 20 \\times 0.2 = 4 \\]\n",
      "\n",
      "这意味着4名学生注册了当代舞。\n",
      "\n",
      "接下来，我们计算剩余的学生人数，即：\n",
      "\n",
      "\\[ 20 - 4 = 16 \\]\n",
      "\n",
      "16名学生中25%报名了爵士舞，即：\n",
      "\n",
      "\\[ 16 \\times 25\\% = 16 \\times 0.25 = 4 \\]\n",
      "\n",
      "所以，另外4名学生注册了爵士舞。现在我们计算剩余注册了嘻哈舞的学生人数，即：\n",
      "\n",
      "\\[ 20 - 4 - 4 = 12 \\]\n",
      "\n",
      "剩余12名学生注册了嘻哈舞。为了找出这些学生占整个班级的百分比，我们使用以下计算：\n",
      "\n",
      "\\[ \\frac{12}{20} \\times 100\\% = 60\\% \\]\n",
      "\n",
      "Answer: 60%\n",
      "[CoT decode 7/10]\n",
      "[Confidence:] 0.9999932132879077\n",
      "[Real answer for confidence scoring:]  60%\n",
      "[Answer:] In a dance class of 20 students:\n",
      "\n",
      "- 20% enrolled in contemporary dance, which is 20% of 20 students:\n",
      "  \\[\n",
      "  0.20 \\times 20 = 4 \\text{ students}\n",
      "  \\]\n",
      "- The remaining students are:\n",
      "  \\[\n",
      "  20 - 4 = 16 \\text{ students}\n",
      "  \\]\n",
      "- 25% of these remaining students enrolled in jazz dance:\n",
      "  \\[\n",
      "  0.25 \\times 16 = 4 \\text{ students}\n",
      "  \\]\n",
      "- The rest of the students enrolled in hip-hop dance:\n",
      "  \\[\n",
      "  16 - 4 = 12 \\text{ students}\n",
      "  \\]\n",
      "- The percentage of the entire class that enrolled in hip-hop dance is:\n",
      "  \\[\n",
      "  \\left( \\frac{12}{20} \\right) \\times 100 = 60\\%\n",
      "  \\]\n",
      "\n",
      "Answer: 60%\n",
      "[CoT decode 8/10]\n",
      "[Confidence:] 0.9999781543187023\n",
      "[Real answer for confidence scoring:]  60%\n",
      "[Answer:] Step 1: Calculate the number of students enrolled in contemporary dance.\n",
      "- 20% of 20 students = 0.20 * 20 = 4 students\n",
      "\n",
      "Step 2: Calculate the number of remaining students after those enrolled in contemporary dance are excluded.\n",
      "- Remaining students = 20 - 4 = 16 students\n",
      "\n",
      "Step 3: Calculate the number of students who enrolled in jazz dance.\n",
      "- 25% of the remaining 16 students = 0.25 * 16 = 4 students\n",
      "\n",
      "Step 4: Calculate the number of students who enrolled in hip-hop dance.\n",
      "- Students in hip-hop dance = 20 - (students in contemporary + students in jazz) = 20 - (4 + 4) = 12 students\n",
      "\n",
      "Step 5: Calculate the percentage of students enrolled in hip-hop dance.\n",
      "- Percentage of students in hip-hop dance = (12 / 20) * 100 = 60%\n",
      "\n",
      "Answer: 60%\n",
      "[CoT decode 9/10]\n",
      "[Confidence:] 0.9999946838713601\n",
      "[Real answer for confidence scoring:]  60%\n",
      "[Answer:] first, we determine the number of students in each dance category:\n",
      "\n",
      "1. **Contemporary Dance:**\n",
      "   - 20% of 20 students = 0.20 * 20 = 4 students\n",
      "\n",
      "2. **Remaining Students:**\n",
      "   - 20 - 4 = 16 students\n",
      "\n",
      "3. **Jazz Dance:**\n",
      "   - 25% of the remaining 16 students = 0.25 * 16 = 4 students\n",
      "\n",
      "4. **Hip-Hop Dance:**\n",
      "   - The rest of the students = 20 - 4 (contemporary) - 4 (jazz) = 12 students\n",
      "\n",
      "Now, to find the percentage of the entire class that enrolled in hip-hop dance:\n",
      "- Percentage of students in hip-hop dance = (12 / 20) * 100 = 60%\n",
      "\n",
      "Answer: 60%\n",
      "[CoT decode 10/10]\n",
      "[Confidence:] 0.9990192143926043\n",
      "[Real answer for confidence scoring:]  60%\n",
      "[Answer:] We start by breaking down the problem step by step.\n",
      "\n",
      "1. Calculate the number of students enrolled in contemporary dance:\n",
      "   \\[\n",
      "   20\\% \\text{ of } 20 = 0.20 \\times 20 = 4 \\text{ students}\n",
      "   \\]\n",
      "\n",
      "2. Determine the number of remaining students after the contemporary dance enrollment:\n",
      "   \\[\n",
      "   20 - 4 = 16 \\text{ students}\n",
      "   \\]\n",
      "\n",
      "3. Calculate the number of students enrolled in jazz dance from the remaining students:\n",
      "   \\[\n",
      "   25\\% \\text{ of } 16 = 0.25 \\times 16 = 4 \\text{ students}\n",
      "   \\]\n",
      "\n",
      "4. Determine the number of students enrolled in hip-hop dance:\n",
      "   \\[\n",
      "   16 - 4 = 12 \\text{ students}\n",
      "   \\]\n",
      "\n",
      "5. Calculate the percentage of the entire class that enrolled in hip-hop dance:\n",
      "   \\[\n",
      "   \\frac{12}{20} \\times 100\\% = 60\\%\n",
      "   \\]\n",
      "\n",
      "Answer: 60%\n",
      "(1/10) Score: 0.9993208837777148\n",
      "Answer: To find the percentage of students enrolled in hip-hop dance, we need to follow these steps:\n",
      "\n",
      "1. Calculate the number of students enrolled in contemporary dance.\n",
      "2. Subtract the number of contemporary dance students from the total to find the remaining students.\n",
      "3. Calculate the number of students enrolled in jazz dance from the remaining students.\n",
      "4. Subtract the number of jazz dance students from the remaining to find the number of students enrolled in hip-hop dance.\n",
      "5. Calculate the percentage of students enrolled in hip-hop dance.\n",
      "\n",
      "Let's perform the calculations:\n",
      "\n",
      "1. Number of students enrolled in contemporary dance:\n",
      "   \\[\n",
      "   20\\% \\text{ of } 20 = 0.20 \\times 20 = 4 \\text{ students}\n",
      "   \\]\n",
      "\n",
      "2. Remaining students after contemporary dance:\n",
      "   \\[\n",
      "   20 - 4 = 16 \\text{ students}\n",
      "   \\]\n",
      "\n",
      "3. Number of students enrolled in jazz dance:\n",
      "   \\[\n",
      "   25\\% \\text{ of } 16 = 0.25 \\times 16 = 4 \\text{ students}\n",
      "   \\]\n",
      "\n",
      "4. Remaining students after jazz dance (enrolled in hip-hop):\n",
      "   \\[\n",
      "   16 - 4 = 12 \\text{ students}\n",
      "   \\]\n",
      "\n",
      "5. Percentage of students enrolled in hip-hop dance:\n",
      "   \\[\n",
      "   \\left(\\frac{12}{20}\\right) \\times 100 = 60\\%\n",
      "   \\]\n",
      "\n",
      "Answer: 60%\n",
      "\n",
      "(2/10) Score: 0.9999523878704021\n",
      "Answer: First, we calculate the number of students who enrolled in contemporary dance, which is 20% of 20 students:\n",
      "\n",
      "\\[ 20 \\times 0.20 = 4 \\]\n",
      "\n",
      "So, 4 students enrolled in contemporary dance. This leaves:\n",
      "\n",
      "\\[ 20 - 4 = 16 \\]\n",
      "\n",
      "16 students remaining. Out of these, 25% enrolled in jazz dance:\n",
      "\n",
      "\\[ 16 \\times 0.25 = 4 \\]\n",
      "\n",
      "So, 4 students enrolled in jazz dance. This leaves:\n",
      "\n",
      "\\[ 16 - 4 = 12 \\]\n",
      "\n",
      "12 students who enrolled in hip-hop dance. To find the percentage of the entire class that enrolled in hip-hop dance:\n",
      "\n",
      "\\[ \\left( \\frac{12}{20} \\right) \\times 100 = 60\\% \\]\n",
      "\n",
      "Answer: 60%\n",
      "\n",
      "(3/10) Score: 0.9999918796058154\n",
      "Answer: Let's break down the problem step by step:\n",
      "\n",
      "1. **Total number of students**: 20\n",
      "\n",
      "2. **Percentage enrolled in contemporary dance**: 20%\n",
      "   - Number of students in contemporary dance: \\( 20 \\times 0.20 = 4 \\)\n",
      "\n",
      "3. **Remaining students after contemporary dance**: \n",
      "   - \\( 20 - 4 = 16 \\)\n",
      "\n",
      "4. **Percentage of the remaining students enrolled in jazz dance**: 25%\n",
      "   - Number of students in jazz dance: \\( 16 \\times 0.25 = 4 \\)\n",
      "\n",
      "5. **Remaining students after jazz dance**:\n",
      "   - \\( 16 - 4 = 12 \\)\n",
      "\n",
      "6. **Number of students enrolled in hip-hop dance**: 12\n",
      "\n",
      "7. **Percentage of the entire class enrolled in hip-hop dance**:\n",
      "   - \\( \\frac{12}{20} \\times 100 = 60\\% \\)\n",
      "\n",
      "Answer: 60%\n",
      "\n",
      "(4/10) Score: 0.9999831657424293\n",
      "Answer: Certainly! Let's break down the problem step-by-step:\n",
      "\n",
      "1. **Total number of students:** 20\n",
      "\n",
      "2. **Percentage enrolled in contemporary dance:** 20%\n",
      "   - Number of students in contemporary dance: \\( 20 \\times 0.20 = 4 \\)\n",
      "\n",
      "3. **Remaining students after contemporary dance:** \n",
      "   - \\( 20 - 4 = 16 \\)\n",
      "\n",
      "4. **Percentage of the remaining students enrolled in jazz dance:** 25%\n",
      "   - Number of students in jazz dance: \\( 16 \\times 0.25 = 4 \\)\n",
      "\n",
      "5. **Remaining students after jazz dance:**\n",
      "   - \\( 16 - 4 = 12 \\)\n",
      "\n",
      "6. **Number of students in hip-hop dance:** 12\n",
      "\n",
      "7. **Percentage of the entire class enrolled in hip-hop dance:**\n",
      "   - \\( \\frac{12}{20} \\times 100 = 60\\% \\)\n",
      "\n",
      "Answer: 60%\n",
      "\n",
      "(5/10) Score: 0.9999989822398221\n",
      "Answer: Sure, let's break down the problem step by step.\n",
      "\n",
      "1. **Total number of students**: 20\n",
      "\n",
      "2. **Students enrolled in contemporary dance**:\n",
      "   - 20% of 20 students = 0.20 * 20 = 4 students\n",
      "\n",
      "3. **Remaining students after contemporary dance**:\n",
      "   - 20 - 4 = 16 students\n",
      "\n",
      "4. **Students enrolled in jazz dance**:\n",
      "   - 25% of the remaining 16 students = 0.25 * 16 = 4 students\n",
      "\n",
      "5. **Remaining students after jazz dance**:\n",
      "   - 16 - 4 = 12 students\n",
      "\n",
      "6. **Students enrolled in hip-hop dance**:\n",
      "   - The rest of the students = 12 students\n",
      "\n",
      "7. **Percentage of students enrolled in hip-hop dance**:\n",
      "   - (12 / 20) * 100 = 60%\n",
      "\n",
      "So, the percentage of the entire students enrolled in hip-hop dance is:\n",
      "\n",
      "Answer: 60%\n",
      "\n",
      "(6/10) Score: 0.9997251052131286\n",
      "Answer: 首先，我们确定舞蹈课上的20名学生中有多少人注册了当代舞。20%的学生注册了当代舞，即：\n",
      "\n",
      "\\[ 20 \\times 20\\% = 20 \\times 0.2 = 4 \\]\n",
      "\n",
      "这意味着4名学生注册了当代舞。\n",
      "\n",
      "接下来，我们计算剩余的学生人数，即：\n",
      "\n",
      "\\[ 20 - 4 = 16 \\]\n",
      "\n",
      "16名学生中25%报名了爵士舞，即：\n",
      "\n",
      "\\[ 16 \\times 25\\% = 16 \\times 0.25 = 4 \\]\n",
      "\n",
      "所以，另外4名学生注册了爵士舞。现在我们计算剩余注册了嘻哈舞的学生人数，即：\n",
      "\n",
      "\\[ 20 - 4 - 4 = 12 \\]\n",
      "\n",
      "剩余12名学生注册了嘻哈舞。为了找出这些学生占整个班级的百分比，我们使用以下计算：\n",
      "\n",
      "\\[ \\frac{12}{20} \\times 100\\% = 60\\% \\]\n",
      "\n",
      "Answer: 60%\n",
      "\n",
      "(7/10) Score: 0.9999932132879077\n",
      "Answer: In a dance class of 20 students:\n",
      "\n",
      "- 20% enrolled in contemporary dance, which is 20% of 20 students:\n",
      "  \\[\n",
      "  0.20 \\times 20 = 4 \\text{ students}\n",
      "  \\]\n",
      "- The remaining students are:\n",
      "  \\[\n",
      "  20 - 4 = 16 \\text{ students}\n",
      "  \\]\n",
      "- 25% of these remaining students enrolled in jazz dance:\n",
      "  \\[\n",
      "  0.25 \\times 16 = 4 \\text{ students}\n",
      "  \\]\n",
      "- The rest of the students enrolled in hip-hop dance:\n",
      "  \\[\n",
      "  16 - 4 = 12 \\text{ students}\n",
      "  \\]\n",
      "- The percentage of the entire class that enrolled in hip-hop dance is:\n",
      "  \\[\n",
      "  \\left( \\frac{12}{20} \\right) \\times 100 = 60\\%\n",
      "  \\]\n",
      "\n",
      "Answer: 60%\n",
      "\n",
      "(8/10) Score: 0.9999781543187023\n",
      "Answer: Step 1: Calculate the number of students enrolled in contemporary dance.\n",
      "- 20% of 20 students = 0.20 * 20 = 4 students\n",
      "\n",
      "Step 2: Calculate the number of remaining students after those enrolled in contemporary dance are excluded.\n",
      "- Remaining students = 20 - 4 = 16 students\n",
      "\n",
      "Step 3: Calculate the number of students who enrolled in jazz dance.\n",
      "- 25% of the remaining 16 students = 0.25 * 16 = 4 students\n",
      "\n",
      "Step 4: Calculate the number of students who enrolled in hip-hop dance.\n",
      "- Students in hip-hop dance = 20 - (students in contemporary + students in jazz) = 20 - (4 + 4) = 12 students\n",
      "\n",
      "Step 5: Calculate the percentage of students enrolled in hip-hop dance.\n",
      "- Percentage of students in hip-hop dance = (12 / 20) * 100 = 60%\n",
      "\n",
      "Answer: 60%\n",
      "\n",
      "(9/10) Score: 0.9999946838713601\n",
      "Answer: first, we determine the number of students in each dance category:\n",
      "\n",
      "1. **Contemporary Dance:**\n",
      "   - 20% of 20 students = 0.20 * 20 = 4 students\n",
      "\n",
      "2. **Remaining Students:**\n",
      "   - 20 - 4 = 16 students\n",
      "\n",
      "3. **Jazz Dance:**\n",
      "   - 25% of the remaining 16 students = 0.25 * 16 = 4 students\n",
      "\n",
      "4. **Hip-Hop Dance:**\n",
      "   - The rest of the students = 20 - 4 (contemporary) - 4 (jazz) = 12 students\n",
      "\n",
      "Now, to find the percentage of the entire class that enrolled in hip-hop dance:\n",
      "- Percentage of students in hip-hop dance = (12 / 20) * 100 = 60%\n",
      "\n",
      "Answer: 60%\n",
      "\n",
      "(10/10) Score: 0.9990192143926043\n",
      "Answer: We start by breaking down the problem step by step.\n",
      "\n",
      "1. Calculate the number of students enrolled in contemporary dance:\n",
      "   \\[\n",
      "   20\\% \\text{ of } 20 = 0.20 \\times 20 = 4 \\text{ students}\n",
      "   \\]\n",
      "\n",
      "2. Determine the number of remaining students after the contemporary dance enrollment:\n",
      "   \\[\n",
      "   20 - 4 = 16 \\text{ students}\n",
      "   \\]\n",
      "\n",
      "3. Calculate the number of students enrolled in jazz dance from the remaining students:\n",
      "   \\[\n",
      "   25\\% \\text{ of } 16 = 0.25 \\times 16 = 4 \\text{ students}\n",
      "   \\]\n",
      "\n",
      "4. Determine the number of students enrolled in hip-hop dance:\n",
      "   \\[\n",
      "   16 - 4 = 12 \\text{ students}\n",
      "   \\]\n",
      "\n",
      "5. Calculate the percentage of the entire class that enrolled in hip-hop dance:\n",
      "   \\[\n",
      "   \\frac{12}{20} \\times 100\\% = 60\\%\n",
      "   \\]\n",
      "\n",
      "Answer: 60%\n",
      "\n"
     ]
    }
   ],
   "source": [
    "response = cot_decode_vllm(system_prompt=system_prompt,\n",
    "                           user_prompt=user_prompt,\n",
    "                           client=client,\n",
    "                           model=model,\n",
    "                           n_paths=10,  # default\n",
    "                           max_new_tokens=512,  # default\n",
    "                           temperature=1.0,  # default\n",
    "                           top_p=1.0,  # default\n",
    "                           answer_keywords='Answer:',\n",
    "                           tokenizer_name='',  # default\n",
    "                           aggregate_paths=False,  # default\n",
    "                           return_all=True,\n",
    "                           debug_print=True,\n",
    "                           return_completion_tokens=False  # default\n",
    ")\n",
    "\n",
    "for i, resp in enumerate(response):\n",
    "    print(f\"({i + 1}/{len(response)}) Score: {resp[1]}\")\n",
    "    print(f\"Answer: {resp[0]}\\n\")"
   ]
  },
  {
   "cell_type": "code",
   "execution_count": null,
   "id": "35fd0d6a-697b-48bb-b01e-0030a4503fc9",
   "metadata": {},
   "outputs": [],
   "source": []
  },
  {
   "cell_type": "code",
   "execution_count": null,
   "id": "2acc2848-c44b-46bb-a08d-98f374bbde36",
   "metadata": {},
   "outputs": [],
   "source": []
  },
  {
   "cell_type": "code",
   "execution_count": null,
   "id": "31fe53de-f60d-44f3-a2e4-7a0dd77297f4",
   "metadata": {},
   "outputs": [],
   "source": [
    "\n",
    "\n"
   ]
  },
  {
   "cell_type": "code",
   "execution_count": null,
   "id": "ac74317f-1b1c-4e94-99a5-733612a4ae3b",
   "metadata": {},
   "outputs": [],
   "source": []
  },
  {
   "cell_type": "code",
   "execution_count": null,
   "id": "cd0c1e29-488b-4c4e-b496-c19c6b20aaf8",
   "metadata": {},
   "outputs": [],
   "source": []
  },
  {
   "cell_type": "markdown",
   "id": "92b16eca-c149-42f7-83b3-e6359f1d7bf8",
   "metadata": {},
   "source": [
    "## Playground below (test zone)"
   ]
  },
  {
   "cell_type": "code",
   "execution_count": 9,
   "id": "f7ea2390-0b6d-4fd5-879f-a3d59ced20b5",
   "metadata": {},
   "outputs": [
    {
     "data": {
      "text/plain": [
       "'\\n<|im_start|>system\\nYou are Qwen, created by Alibaba Cloud. You are a helpful assistant.<|im_end|>\\n<|im_start|>user\\nIn a dance class of 20 students, 20% enrolled in contemporary dance, 25% of the remaining enrolled in jazz dance, and the rest enrolled in hip-hop dance. What percentage of the entire students enrolled in hip-hop dance?<|im_end|>\\n<|im_start|>assistant\\n\\n'"
      ]
     },
     "execution_count": 9,
     "metadata": {},
     "output_type": "execute_result"
    }
   ],
   "source": [
    "\"\"\"THIS IS AN EXACT RIGHT PROMPT BELOW FOR QWEN 2.5 INSTRUCT\"\"\"\n",
    "\n",
    "\"\"\"\n",
    "<|im_start|>system\n",
    "You are Qwen, created by Alibaba Cloud. You are a helpful assistant.<|im_end|>\n",
    "<|im_start|>user\n",
    "In a dance class of 20 students, 20% enrolled in contemporary dance, 25% of the remaining enrolled in jazz dance, and the rest enrolled in hip-hop dance. What percentage of the entire students enrolled in hip-hop dance?<|im_end|>\n",
    "<|im_start|>assistant\n",
    "\n",
    "\"\"\""
   ]
  },
  {
   "cell_type": "code",
   "execution_count": 10,
   "id": "4c93a03d-abf7-4029-89c4-87be28757d60",
   "metadata": {},
   "outputs": [
    {
     "data": {
      "text/plain": [
       "ChatCompletionMessage(content='Hello! How can I assist you today? Feel free to ask me any questions or let me know if you need help with anything specific.', refusal=None, role='assistant', function_call=None, tool_calls=[])"
      ]
     },
     "execution_count": 10,
     "metadata": {},
     "output_type": "execute_result"
    }
   ],
   "source": [
    "completion = client.chat.completions.create(\n",
    "    model=model,\n",
    "    messages=[\n",
    "        {\"role\": \"user\", \"content\": \"Hello!\"}\n",
    "  ]\n",
    ")\n",
    "\n",
    "completion.choices[0].message"
   ]
  },
  {
   "cell_type": "code",
   "execution_count": 11,
   "id": "5b461db9-8fcc-421b-a607-0a16a3bd2a30",
   "metadata": {},
   "outputs": [
    {
     "data": {
      "text/plain": [
       "Completion(id='cmpl-a6270dfa4e4a4b2e9302b8231692b015', choices=[CompletionChoice(finish_reason='length', index=0, logprobs=Logprobs(text_offset=[0, 2, 12], token_logprobs=[-0.2157096564769745, -0.5551704168319702, -0.018150897696614265], tokens=['To', ' determine', ' the'], top_logprobs=[{'To': -0.2157096564769745}, {' determine': -0.5551704168319702}, {' the': -0.018150897696614265}]), text='To determine the', stop_reason=None, prompt_logprobs=None), CompletionChoice(finish_reason='length', index=1, logprobs=Logprobs(text_offset=[0, 2, 7], token_logprobs=[-0.2157096564769745, -1.4301704168319702, -0.14721615612506866], tokens=['To', ' find', ' the'], top_logprobs=[{'To': -0.2157096564769745}, {' find': -1.4301704168319702, ' determine': -0.5551704168319702}, {' the': -0.14721615612506866}]), text='To find the', stop_reason=None, prompt_logprobs=None), CompletionChoice(finish_reason='length', index=2, logprobs=Logprobs(text_offset=[0, 2, 7], token_logprobs=[-0.2157096564769745, -1.4301704168319702, -0.14721615612506866], tokens=['To', ' find', ' the'], top_logprobs=[{'To': -0.2157096564769745}, {' find': -1.4301704168319702, ' determine': -0.5551704168319702}, {' the': -0.14721615612506866}]), text='To find the', stop_reason=None, prompt_logprobs=None)], created=1729241731, model='Qwen/Qwen2.5-72B-Instruct', object='text_completion', system_fingerprint=None, usage=CompletionUsage(completion_tokens=9, prompt_tokens=267, total_tokens=276, completion_tokens_details=None, prompt_tokens_details=None))"
      ]
     },
     "execution_count": 11,
     "metadata": {},
     "output_type": "execute_result"
    }
   ],
   "source": [
    "messages = [\n",
    "        {\"role\": \"system\", \"content\": system_prompt},\n",
    "        {\"role\": \"user\", \"content\": user_prompt}\n",
    "    ]\n",
    "\n",
    "tokenizer = AutoTokenizer.from_pretrained(model)\n",
    "base_prompt = tokenizer.apply_chat_template(messages, tokenize=False, add_generation_prompt=True)\n",
    "\n",
    "completion_init = client.completions.create(\n",
    "        model=model,\n",
    "        prompt=[base_prompt, base_prompt, base_prompt],\n",
    "        max_tokens=3,\n",
    "        logprobs=1,\n",
    "    )\n",
    "completion_init"
   ]
  },
  {
   "cell_type": "code",
   "execution_count": 12,
   "id": "752ff26e-bd6b-4a09-8a0d-0080f2478cc6",
   "metadata": {},
   "outputs": [
    {
     "data": {
      "text/plain": [
       "9"
      ]
     },
     "execution_count": 12,
     "metadata": {},
     "output_type": "execute_result"
    }
   ],
   "source": [
    "completion_init.usage.completion_tokens"
   ]
  },
  {
   "cell_type": "code",
   "execution_count": null,
   "id": "e39c0a71-a503-4b56-bd9f-0f44d270b08a",
   "metadata": {},
   "outputs": [],
   "source": []
  },
  {
   "cell_type": "code",
   "execution_count": null,
   "id": "5616b3c0-37a6-44b0-a7a7-84d663790b2c",
   "metadata": {},
   "outputs": [],
   "source": []
  },
  {
   "cell_type": "code",
   "execution_count": 13,
   "id": "181ac531-2401-42d7-9efb-d03b2f4e17a4",
   "metadata": {},
   "outputs": [
    {
     "data": {
      "text/plain": [
       "{'To': -0.2693541944026947,\n",
       " 'First': -2.0193541049957275,\n",
       " 'Let': -2.2693541049957275}"
      ]
     },
     "execution_count": 13,
     "metadata": {},
     "output_type": "execute_result"
    }
   ],
   "source": [
    "completion_init = client.completions.create(\n",
    "        model=model,\n",
    "        prompt=base_prompt,\n",
    "        max_tokens=1,\n",
    "        logprobs=3,\n",
    "    )\n",
    "completion_init\n",
    "completion_init.choices[0].logprobs.top_logprobs[0]"
   ]
  },
  {
   "cell_type": "code",
   "execution_count": 14,
   "id": "e7cc8ffd-af40-49f1-b7e0-ff8fc3a6d2a3",
   "metadata": {},
   "outputs": [
    {
     "data": {
      "text/plain": [
       "1"
      ]
     },
     "execution_count": 14,
     "metadata": {},
     "output_type": "execute_result"
    }
   ],
   "source": [
    "completion_init.usage.completion_tokens"
   ]
  },
  {
   "cell_type": "code",
   "execution_count": null,
   "id": "d0cabff6-d467-4691-bcd0-39ce747d4354",
   "metadata": {},
   "outputs": [],
   "source": []
  },
  {
   "cell_type": "code",
   "execution_count": null,
   "id": "14d24a30-65c4-497f-a3f2-f68e90263663",
   "metadata": {},
   "outputs": [],
   "source": []
  },
  {
   "cell_type": "code",
   "execution_count": null,
   "id": "d014b2cb-9f5e-4707-9fc3-a0723dd5390d",
   "metadata": {},
   "outputs": [],
   "source": []
  },
  {
   "cell_type": "code",
   "execution_count": 2,
   "id": "c21a71a0-0f0b-4c35-8eb1-758af1ed46bb",
   "metadata": {},
   "outputs": [
    {
     "name": "stdout",
     "output_type": "stream",
     "text": [
      "<|im_start|>system\n",
      "You are a friendly chatbot who always responds in the style of a pirate<|im_end|>\n",
      "<|im_start|>user\n",
      "How many helicopters can a human eat in one sitting?<|im_end|>\n",
      "<|im_start|>assistant\n",
      "\n"
     ]
    }
   ],
   "source": [
    "from transformers import AutoModelForCausalLM, AutoTokenizer\n",
    "\n",
    "checkpoint = \"Qwen/Qwen2.5-72B-Instruct\"\n",
    "tokenizer = AutoTokenizer.from_pretrained(checkpoint)\n",
    "\n",
    "messages = [\n",
    "    {\n",
    "        \"role\": \"system\",\n",
    "        \"content\": \"You are a friendly chatbot who always responds in the style of a pirate\",\n",
    "    },\n",
    "    {\"role\": \"user\", \"content\": \"How many helicopters can a human eat in one sitting?\"},\n",
    " ]\n",
    "tokenized_chat = tokenizer.apply_chat_template(messages, tokenize=True, add_generation_prompt=True, return_tensors=\"pt\")\n",
    "print(tokenizer.decode(tokenized_chat[0]))"
   ]
  },
  {
   "cell_type": "code",
   "execution_count": 6,
   "id": "c83b2b3f-b372-4160-a35b-097c2752e85f",
   "metadata": {},
   "outputs": [
    {
     "data": {
      "text/plain": [
       "'<|im_start|>system\\nYou are a friendly chatbot who always responds in the style of a pirate<|im_end|>\\n<|im_start|>user\\nHow many helicopters can a human eat in one sitting?<|im_end|>\\n'"
      ]
     },
     "execution_count": 6,
     "metadata": {},
     "output_type": "execute_result"
    }
   ],
   "source": [
    "tokenizer.apply_chat_template(messages, tokenize=False, add_generation_prompt=False)"
   ]
  },
  {
   "cell_type": "code",
   "execution_count": 4,
   "id": "03d583e5-cc5f-4aae-a899-9b5ea652bae8",
   "metadata": {},
   "outputs": [
    {
     "data": {
      "text/plain": [
       "'<|im_start|>system\\nYou are a friendly chatbot who always responds in the style of a pirate<|im_end|>\\n<|im_start|>user\\nHow many helicopters can a human eat in one sitting?<|im_end|>\\n<|im_start|>assistant\\n'"
      ]
     },
     "execution_count": 4,
     "metadata": {},
     "output_type": "execute_result"
    }
   ],
   "source": [
    "tokenizer.apply_chat_template(messages, tokenize=False, add_generation_prompt=True)"
   ]
  },
  {
   "cell_type": "code",
   "execution_count": 5,
   "id": "d7db8792-97cd-4f30-896c-70ead41308b2",
   "metadata": {},
   "outputs": [
    {
     "data": {
      "text/plain": [
       "'<|im_start|>system\\nYou are a friendly chatbot who always responds in the style of a pirate<|im_end|>\\n<|im_start|>user\\nHow many helicopters can a human eat in one sitting?<|im_end|>\\n<|im_start|>assistant\\n'"
      ]
     },
     "execution_count": 5,
     "metadata": {},
     "output_type": "execute_result"
    }
   ],
   "source": [
    "build_qwen_chat_prompt(messages[0]['content'], messages[1]['content'])"
   ]
  },
  {
   "cell_type": "code",
   "execution_count": 18,
   "id": "9218c33b-109f-4bfb-8963-8ea2efcc5d8b",
   "metadata": {},
   "outputs": [
    {
     "name": "stdout",
     "output_type": "stream",
     "text": [
      "[3838, 525, 498, 3730, 1588, 30]\n",
      "6\n"
     ]
    }
   ],
   "source": [
    "print(tokenizer.encode(\"What are you doing here?\"))\n",
    "print(len(tokenizer.encode(\"What are you doing here?\")))"
   ]
  },
  {
   "cell_type": "code",
   "execution_count": 11,
   "id": "5adf21a0-6144-4e19-a438-0eafb4c92b6e",
   "metadata": {},
   "outputs": [
    {
     "data": {
      "text/plain": [
       "'<|im_start|>system\\nYou are Qwen, created by Alibaba Cloud. You are a helpful assistant.<|im_end|>\\n'"
      ]
     },
     "execution_count": 11,
     "metadata": {},
     "output_type": "execute_result"
    }
   ],
   "source": [
    "tokenizer.apply_chat_template(\"What are you doing here?\", tokenize=False, add_generation_prompt=False)"
   ]
  },
  {
   "cell_type": "code",
   "execution_count": null,
   "id": "2227de64-2fad-4be1-9bd3-fcbc220af1ba",
   "metadata": {},
   "outputs": [],
   "source": []
  },
  {
   "cell_type": "code",
   "execution_count": null,
   "id": "0ab2b953-a71a-499c-89ff-aa6bc56a491b",
   "metadata": {},
   "outputs": [],
   "source": []
  }
 ],
 "metadata": {
  "kernelspec": {
   "display_name": "Python 3 (ipykernel)",
   "language": "python",
   "name": "python3"
  },
  "language_info": {
   "codemirror_mode": {
    "name": "ipython",
    "version": 3
   },
   "file_extension": ".py",
   "mimetype": "text/x-python",
   "name": "python",
   "nbconvert_exporter": "python",
   "pygments_lexer": "ipython3",
   "version": "3.11.10"
  }
 },
 "nbformat": 4,
 "nbformat_minor": 5
}
